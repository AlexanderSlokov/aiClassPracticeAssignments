{
  "nbformat": 4,
  "nbformat_minor": 0,
  "metadata": {
    "colab": {
      "provenance": [],
      "mount_file_id": "15G7FIq317BzW342cagH5agC-E0PQ3ih1",
      "authorship_tag": "ABX9TyPrCU6v10GeAXkyiTPqEnEs",
      "include_colab_link": true
    },
    "kernelspec": {
      "name": "python3",
      "display_name": "Python 3"
    },
    "language_info": {
      "name": "python"
    },
    "accelerator": "GPU",
    "gpuClass": "standard"
  },
  "cells": [
    {
      "cell_type": "markdown",
      "metadata": {
        "id": "view-in-github",
        "colab_type": "text"
      },
      "source": [
        "<a href=\"https://colab.research.google.com/github/AlexanderSlokov/aiClassPracticeAssignments/blob/main/MidTermExam_FlowerClassification.ipynb\" target=\"_parent\"><img src=\"https://colab.research.google.com/assets/colab-badge.svg\" alt=\"Open In Colab\"/></a>"
      ]
    },
    {
      "cell_type": "code",
      "source": [
        "# Libraries to preprocessing images\n",
        "from os import listdir\n",
        "from numpy import asarray, save\n",
        "from keras.utils import img_to_array\n",
        "from keras.utils import load_img\n",
        "import cv2\n",
        "import numpy as np"
      ],
      "metadata": {
        "id": "CjzdOMhPCaxk"
      },
      "execution_count": null,
      "outputs": []
    },
    {
      "cell_type": "code",
      "execution_count": null,
      "metadata": {
        "id": "3HMCE5aH_0ya",
        "colab": {
          "base_uri": "https://localhost:8080/"
        },
        "outputId": "a1a48bd9-fe5b-446d-87bf-f57cdef2c83a"
      },
      "outputs": [
        {
          "output_type": "stream",
          "name": "stdout",
          "text": [
            "Drive already mounted at /content/drive; to attempt to forcibly remount, call drive.mount(\"/content/drive\", force_remount=True).\n"
          ]
        }
      ],
      "source": [
        "# Mount Google Drive\n",
        "from google.colab import drive\n",
        "drive.mount('/content/drive')\n"
      ]
    },
    {
      "cell_type": "code",
      "source": [
        "# Access Drive Folder\n",
        "import matplotlib.pyplot as plt\n",
        "from matplotlib.image import imread \n",
        "folder = '/content/drive/MyDrive/AI Picture Datasets Resized/BulkResizePhotosFlowerClassification/'"
      ],
      "metadata": {
        "id": "e43tQZaFC8wA"
      },
      "execution_count": null,
      "outputs": []
    },
    {
      "cell_type": "code",
      "source": [
        "# Read the images and its name\n",
        "photos, labels = list(), list()\n",
        "for file in listdir(folder):\n",
        "\n",
        "  if file.startswith('daisy'):\n",
        "    output = 0\n",
        "\n",
        "  if file.startswith('dandelion'):\n",
        "    output = 1\n",
        "\n",
        "  if file.startswith('roses'):\n",
        "    output = 2\n",
        "\n",
        "  if file.startswith('sunflowers'):\n",
        "    output = 3\n",
        "\n",
        "  if file.startswith('tulips'):\n",
        "    output = 4\n",
        "  \n",
        "\n",
        "# Load folder and preprocessing\n",
        "  #photo = load_img(folder + file)\n",
        "# New code to preprocess images\n",
        "  photo = cv2.imread('/content/drive/MyDrive/AI Picture Datasets Resized/BulkResizePhotosFlowerClassification/' + file)\n",
        "  photo = cv2.cvtColor(photo, cv2.COLOR_BGR2RGB)\n",
        "  photo = img_to_array(photo, dtype = np.float32)\n",
        "  photos.append(photo)\n",
        "  labels.append(output)\n",
        "\n",
        "photos = asarray(photos, dtype = np.float32 )\n",
        "labels =  asarray(labels)\n"
      ],
      "metadata": {
        "id": "jeB16QqiDnfk"
      },
      "execution_count": null,
      "outputs": []
    },
    {
      "cell_type": "code",
      "source": [
        "print(photos.shape, labels.shape)\n",
        "save('/content/drive/MyDrive/AI_data_preprocessing/Midterm_FlowerClassification_photos.npy', photos)\n",
        "save('/content/drive/MyDrive/AI_data_preprocessing/Midterm_FlowerClassification_labels.npy', labels)"
      ],
      "metadata": {
        "colab": {
          "base_uri": "https://localhost:8080/"
        },
        "id": "lknMnWgJHJhe",
        "outputId": "ae133aac-677a-4708-fd7f-5fa4817f37dc"
      },
      "execution_count": null,
      "outputs": [
        {
          "output_type": "stream",
          "name": "stdout",
          "text": [
            "(625, 224, 224, 3) (625,)\n"
          ]
        }
      ]
    },
    {
      "cell_type": "code",
      "execution_count": null,
      "metadata": {
        "id": "4BOEc7gHoRPE"
      },
      "outputs": [],
      "source": [
        "import matplotlib.pyplot as plt\n",
        "from keras.models import Sequential, Model\n",
        "from keras.layers import Dense, Dropout, Flatten, Conv2D, MaxPooling2D, Normalization, LeakyReLU, BatchNormalization\n",
        "from keras.utils import to_categorical\n",
        "from keras.optimizers import Adam\n",
        "from keras.losses import categorical_crossentropy   \n",
        "from sklearn.model_selection import train_test_split\n",
        "from keras.callbacks import EarlyStopping\n",
        "from keras.utils import load_img, img_to_array\n",
        "\n",
        "import tensorflow as tf\n",
        "import keras\n",
        "import numpy as np"
      ]
    },
    {
      "cell_type": "code",
      "execution_count": null,
      "metadata": {
        "id": "jxikUeVpoz35"
      },
      "outputs": [],
      "source": [
        "# load the preprocessed data\n",
        "data = np.load('/content/drive/MyDrive/AI_data_preprocessing/Midterm_FlowerClassification_photos.npy')\n",
        "labels = np.load('/content/drive/MyDrive/AI_data_preprocessing/Midterm_FlowerClassification_labels.npy')"
      ]
    },
    {
      "cell_type": "code",
      "source": [
        "# split data into training and testing sets\n",
        "x_train, x_test, y_train, y_test = train_test_split(data, labels, test_size=0.2, random_state=42)\n",
        "x_train, x_val, y_train, y_val = train_test_split(x_train, y_train, test_size=0.2, random_state=42)\n"
      ],
      "metadata": {
        "id": "YkzeCGTngybY"
      },
      "execution_count": null,
      "outputs": []
    },
    {
      "cell_type": "code",
      "execution_count": null,
      "metadata": {
        "id": "DXxteM48M8KA",
        "outputId": "e3833fdb-8a82-4682-f0d2-ce61a842faa0",
        "colab": {
          "base_uri": "https://localhost:8080/"
        }
      },
      "outputs": [
        {
          "output_type": "stream",
          "name": "stdout",
          "text": [
            "(400, 224, 224, 3)\n",
            "(400,)\n",
            "(125, 224, 224, 3)\n",
            "(125,)\n",
            "(100, 224, 224, 3)\n",
            "(100,)\n"
          ]
        }
      ],
      "source": [
        "print(x_train.shape)\n",
        "print(y_train.shape)\n",
        "print(x_test.shape)\n",
        "print(y_test.shape)\n",
        "print(x_val.shape)\n",
        "print(y_val.shape)"
      ]
    },
    {
      "cell_type": "code",
      "execution_count": null,
      "metadata": {
        "id": "tnHeIKqvo-q2"
      },
      "outputs": [],
      "source": [
        "x_train_reshape = x_train.reshape(400, 224, 224, 3)\n",
        "train_reshape = x_train_reshape.astype('float32')/255\n",
        "\n",
        "x_test_reshape = x_test.reshape(125, 224, 224, 3)\n",
        "test_reshape = x_test_reshape.astype('float32')/255\n",
        "\n",
        "x_val_reshape = x_val.reshape(100, 224, 224, 3)\n",
        "val_reshape = x_val_reshape.astype('float32')/255\n",
        "# the to_cactagorical line must only run 1 time in a session"
      ]
    },
    {
      "cell_type": "code",
      "execution_count": null,
      "metadata": {
        "id": "KExz1Hjipqzm"
      },
      "outputs": [],
      "source": [
        "y_train = to_categorical(y_train)\n",
        "y_test = to_categorical(y_test)\n",
        "y_val = to_categorical(y_val)"
      ]
    },
    {
      "cell_type": "code",
      "execution_count": null,
      "metadata": {
        "id": "eQrnlM2Gqh1V"
      },
      "outputs": [],
      "source": [
        "model = Sequential()\n",
        "\n",
        "input_layer = tf.keras.layers.Input([224, 224, 3])\n",
        "\n",
        "conv1 = tf.keras.layers.Conv2D(filters = 32, kernel_size=(5, 5), activation='relu', padding='same') (input_layer)\n",
        "pooling1 = tf.keras.layers.MaxPooling2D(pool_size = (2, 2)) (conv1)\n",
        "\n",
        "conv2 = tf.keras.layers.Conv2D(filters = 64, kernel_size=(5, 5), activation='relu', padding='same') (pooling1)\n",
        "pooling2 = tf.keras.layers.MaxPooling2D(pool_size = (2, 2), strides = (2,2)) (conv2)\n",
        "\n",
        "conv3 = tf.keras.layers.Conv2D(filters = 96, kernel_size=(4, 4), activation='relu', padding='same') (pooling2)\n",
        "pooling3 = tf.keras.layers.MaxPooling2D(pool_size = (2, 2), strides = (2,2)) (conv3)\n",
        "\n",
        "conv4 = tf.keras.layers.Conv2D(filters = 128, kernel_size=(4, 4), activation='relu', padding='same') (pooling3)\n",
        "pooling4 = tf.keras.layers.MaxPooling2D(pool_size = (2, 2), strides = (2,2)) (conv4)\n",
        "\n",
        "conv5 = tf.keras.layers.Conv2D(filters = 256, kernel_size=(3, 3), activation='relu', padding='same') (pooling4)\n",
        "pooling5 = tf.keras.layers.MaxPooling2D(pool_size = (2, 2), strides = (2,2)) (conv5)\n",
        "\n",
        "# The ANN's flatten begining layer\n",
        "flatten = tf.keras.layers.Flatten() (pooling5)\n",
        "\n",
        "# Hidden layers\n",
        "dense1 = tf.keras.layers.Dense(512, activation = 'relu') (flatten)\n",
        "\n",
        "# Output layer\n",
        "output_layer = tf.keras.layers.Dense(5, activation = 'Softmax') (dense1)   "
      ]
    },
    {
      "cell_type": "code",
      "execution_count": null,
      "metadata": {
        "colab": {
          "base_uri": "https://localhost:8080/"
        },
        "id": "xIR5Q_SUezll",
        "outputId": "73806dc9-a364-4cc5-a8b1-6aa6acbdb78d"
      },
      "outputs": [
        {
          "output_type": "stream",
          "name": "stdout",
          "text": [
            "Epoch 1/50\n",
            "5/5 [==============================] - 3s 227ms/step - loss: 24.2101 - accuracy: 0.1950\n",
            "Epoch 2/50\n",
            "5/5 [==============================] - 1s 136ms/step - loss: 10.9041 - accuracy: 0.2000\n",
            "Epoch 3/50\n",
            "5/5 [==============================] - 1s 136ms/step - loss: 2.4479 - accuracy: 0.2325\n",
            "Epoch 4/50\n",
            "5/5 [==============================] - 1s 135ms/step - loss: 1.8507 - accuracy: 0.2725\n",
            "Epoch 5/50\n",
            "5/5 [==============================] - 1s 137ms/step - loss: 1.5836 - accuracy: 0.3125\n",
            "Epoch 6/50\n",
            "5/5 [==============================] - 1s 137ms/step - loss: 1.3428 - accuracy: 0.4300\n",
            "Epoch 7/50\n",
            "5/5 [==============================] - 1s 139ms/step - loss: 1.2897 - accuracy: 0.4400\n",
            "Epoch 8/50\n",
            "5/5 [==============================] - 1s 139ms/step - loss: 1.1774 - accuracy: 0.5650\n",
            "Epoch 9/50\n",
            "5/5 [==============================] - 1s 140ms/step - loss: 1.1233 - accuracy: 0.5475\n",
            "Epoch 10/50\n",
            "5/5 [==============================] - 1s 144ms/step - loss: 0.9980 - accuracy: 0.6775\n",
            "Epoch 11/50\n",
            "5/5 [==============================] - 1s 143ms/step - loss: 0.9133 - accuracy: 0.7075\n",
            "Epoch 12/50\n",
            "5/5 [==============================] - 1s 149ms/step - loss: 0.8210 - accuracy: 0.7625\n",
            "Epoch 13/50\n",
            "5/5 [==============================] - 1s 155ms/step - loss: 0.7340 - accuracy: 0.7950\n",
            "Epoch 14/50\n",
            "5/5 [==============================] - 1s 142ms/step - loss: 0.6775 - accuracy: 0.7900\n",
            "Epoch 15/50\n",
            "5/5 [==============================] - 1s 139ms/step - loss: 0.6167 - accuracy: 0.8275\n",
            "Epoch 16/50\n",
            "5/5 [==============================] - 1s 136ms/step - loss: 0.5347 - accuracy: 0.8475\n",
            "Epoch 17/50\n",
            "5/5 [==============================] - 1s 138ms/step - loss: 0.4932 - accuracy: 0.8825\n",
            "Epoch 18/50\n",
            "5/5 [==============================] - 1s 139ms/step - loss: 0.4343 - accuracy: 0.9000\n",
            "Epoch 19/50\n",
            "5/5 [==============================] - 1s 138ms/step - loss: 0.3998 - accuracy: 0.9325\n",
            "Epoch 20/50\n",
            "5/5 [==============================] - 1s 137ms/step - loss: 0.3631 - accuracy: 0.9200\n",
            "Epoch 21/50\n",
            "5/5 [==============================] - 1s 136ms/step - loss: 0.3098 - accuracy: 0.9525\n",
            "Epoch 22/50\n",
            "5/5 [==============================] - 1s 139ms/step - loss: 0.2889 - accuracy: 0.9525\n",
            "Epoch 23/50\n",
            "5/5 [==============================] - 1s 137ms/step - loss: 0.2403 - accuracy: 0.9675\n",
            "Epoch 24/50\n",
            "5/5 [==============================] - 1s 138ms/step - loss: 0.1941 - accuracy: 0.9800\n",
            "Epoch 25/50\n",
            "5/5 [==============================] - 1s 137ms/step - loss: 0.1706 - accuracy: 0.9800\n",
            "Epoch 26/50\n",
            "5/5 [==============================] - 1s 140ms/step - loss: 0.1391 - accuracy: 0.9925\n",
            "Epoch 27/50\n",
            "5/5 [==============================] - 1s 137ms/step - loss: 0.1329 - accuracy: 0.9900\n",
            "Epoch 28/50\n",
            "5/5 [==============================] - 1s 139ms/step - loss: 0.1304 - accuracy: 0.9950\n",
            "Epoch 29/50\n",
            "5/5 [==============================] - 1s 152ms/step - loss: 0.1219 - accuracy: 0.9925\n",
            "Epoch 30/50\n",
            "5/5 [==============================] - 1s 153ms/step - loss: 0.0830 - accuracy: 0.9975\n",
            "Epoch 31/50\n",
            "5/5 [==============================] - 1s 146ms/step - loss: 0.0704 - accuracy: 1.0000\n",
            "Epoch 32/50\n",
            "5/5 [==============================] - 1s 143ms/step - loss: 0.0543 - accuracy: 1.0000\n",
            "Epoch 33/50\n",
            "5/5 [==============================] - 1s 139ms/step - loss: 0.0459 - accuracy: 1.0000\n",
            "Epoch 34/50\n",
            "5/5 [==============================] - 1s 139ms/step - loss: 0.0396 - accuracy: 1.0000\n",
            "Epoch 34: early stopping\n"
          ]
        }
      ],
      "source": [
        "# compile the model\n",
        "model = tf.keras.Model(input_layer, output_layer)\n",
        "\n",
        "optimizer = keras.optimizers.Adam(learning_rate=0.0001)\n",
        "callback = tf.keras.callbacks.EarlyStopping(monitor='accuracy', patience=3, verbose = 1, mode='max')\n",
        "\n",
        "model.compile(loss  = 'categorical_crossentropy', optimizer = optimizer, metrics = ['accuracy'])\n",
        "# train the model\n",
        "train = model.fit(x_train, y_train, epochs = 50, batch_size = 96, callbacks=[callback], verbose = 1)"
      ]
    },
    {
      "cell_type": "code",
      "execution_count": null,
      "metadata": {
        "id": "huIZGBCOM8KE",
        "outputId": "5002f8da-75d0-48d7-d07c-16ba8614393e",
        "colab": {
          "base_uri": "https://localhost:8080/"
        }
      },
      "outputs": [
        {
          "output_type": "stream",
          "name": "stdout",
          "text": [
            "4/4 [==============================] - 1s 82ms/step - loss: 1.3149 - accuracy: 0.5600\n",
            "Test Loss: 1.3149371147155762\n",
            "Test Accuracy: 0.5600000023841858\n"
          ]
        }
      ],
      "source": [
        "# evaluate the model on test data\n",
        "test_loss, test_accuracy = model.evaluate(x_test, y_test)\n",
        "\n",
        "print(\"Test Loss:\", test_loss)\n",
        "print(\"Test Accuracy:\", test_accuracy)"
      ]
    },
    {
      "cell_type": "code",
      "execution_count": null,
      "metadata": {
        "id": "HzIqFnt4rR5q",
        "colab": {
          "base_uri": "https://localhost:8080/",
          "height": 813
        },
        "outputId": "50d1796b-8d57-4d24-8c80-1625d076a4e7"
      },
      "outputs": [
        {
          "output_type": "error",
          "ename": "ValueError",
          "evalue": "ignored",
          "traceback": [
            "\u001b[0;31m---------------------------------------------------------------------------\u001b[0m",
            "\u001b[0;31mValueError\u001b[0m                                Traceback (most recent call last)",
            "\u001b[0;32m<ipython-input-280-a50228bb0583>\u001b[0m in \u001b[0;36m<cell line: 7>\u001b[0;34m()\u001b[0m\n\u001b[1;32m      5\u001b[0m \u001b[0;31m# Plot the training loss and accuracy curves\u001b[0m\u001b[0;34m\u001b[0m\u001b[0;34m\u001b[0m\u001b[0m\n\u001b[1;32m      6\u001b[0m \u001b[0mepochs\u001b[0m \u001b[0;34m=\u001b[0m \u001b[0mnp\u001b[0m\u001b[0;34m.\u001b[0m\u001b[0marange\u001b[0m\u001b[0;34m(\u001b[0m\u001b[0;36m1\u001b[0m\u001b[0;34m,\u001b[0m \u001b[0;36m28\u001b[0m\u001b[0;34m)\u001b[0m\u001b[0;34m\u001b[0m\u001b[0;34m\u001b[0m\u001b[0m\n\u001b[0;32m----> 7\u001b[0;31m \u001b[0mplt\u001b[0m\u001b[0;34m.\u001b[0m\u001b[0mplot\u001b[0m\u001b[0;34m(\u001b[0m\u001b[0mepochs\u001b[0m\u001b[0;34m,\u001b[0m \u001b[0maccuracy\u001b[0m\u001b[0;34m,\u001b[0m \u001b[0;34m'bo'\u001b[0m\u001b[0;34m,\u001b[0m \u001b[0mlabel\u001b[0m\u001b[0;34m=\u001b[0m\u001b[0;34m'Training accuracy'\u001b[0m\u001b[0;34m)\u001b[0m\u001b[0;34m\u001b[0m\u001b[0;34m\u001b[0m\u001b[0m\n\u001b[0m\u001b[1;32m      8\u001b[0m \u001b[0mplt\u001b[0m\u001b[0;34m.\u001b[0m\u001b[0mplot\u001b[0m\u001b[0;34m(\u001b[0m\u001b[0mepochs\u001b[0m\u001b[0;34m,\u001b[0m \u001b[0mloss\u001b[0m\u001b[0;34m,\u001b[0m \u001b[0;34m'b'\u001b[0m\u001b[0;34m,\u001b[0m \u001b[0mlabel\u001b[0m\u001b[0;34m=\u001b[0m\u001b[0;34m'Training loss'\u001b[0m\u001b[0;34m)\u001b[0m\u001b[0;34m\u001b[0m\u001b[0;34m\u001b[0m\u001b[0m\n\u001b[1;32m      9\u001b[0m \u001b[0mplt\u001b[0m\u001b[0;34m.\u001b[0m\u001b[0mtitle\u001b[0m\u001b[0;34m(\u001b[0m\u001b[0;34m'Training loss and accuracy'\u001b[0m\u001b[0;34m)\u001b[0m\u001b[0;34m\u001b[0m\u001b[0;34m\u001b[0m\u001b[0m\n",
            "\u001b[0;32m/usr/local/lib/python3.9/dist-packages/matplotlib/pyplot.py\u001b[0m in \u001b[0;36mplot\u001b[0;34m(scalex, scaley, data, *args, **kwargs)\u001b[0m\n\u001b[1;32m   2810\u001b[0m \u001b[0;34m@\u001b[0m\u001b[0m_copy_docstring_and_deprecators\u001b[0m\u001b[0;34m(\u001b[0m\u001b[0mAxes\u001b[0m\u001b[0;34m.\u001b[0m\u001b[0mplot\u001b[0m\u001b[0;34m)\u001b[0m\u001b[0;34m\u001b[0m\u001b[0;34m\u001b[0m\u001b[0m\n\u001b[1;32m   2811\u001b[0m \u001b[0;32mdef\u001b[0m \u001b[0mplot\u001b[0m\u001b[0;34m(\u001b[0m\u001b[0;34m*\u001b[0m\u001b[0margs\u001b[0m\u001b[0;34m,\u001b[0m \u001b[0mscalex\u001b[0m\u001b[0;34m=\u001b[0m\u001b[0;32mTrue\u001b[0m\u001b[0;34m,\u001b[0m \u001b[0mscaley\u001b[0m\u001b[0;34m=\u001b[0m\u001b[0;32mTrue\u001b[0m\u001b[0;34m,\u001b[0m \u001b[0mdata\u001b[0m\u001b[0;34m=\u001b[0m\u001b[0;32mNone\u001b[0m\u001b[0;34m,\u001b[0m \u001b[0;34m**\u001b[0m\u001b[0mkwargs\u001b[0m\u001b[0;34m)\u001b[0m\u001b[0;34m:\u001b[0m\u001b[0;34m\u001b[0m\u001b[0;34m\u001b[0m\u001b[0m\n\u001b[0;32m-> 2812\u001b[0;31m     return gca().plot(\n\u001b[0m\u001b[1;32m   2813\u001b[0m         \u001b[0;34m*\u001b[0m\u001b[0margs\u001b[0m\u001b[0;34m,\u001b[0m \u001b[0mscalex\u001b[0m\u001b[0;34m=\u001b[0m\u001b[0mscalex\u001b[0m\u001b[0;34m,\u001b[0m \u001b[0mscaley\u001b[0m\u001b[0;34m=\u001b[0m\u001b[0mscaley\u001b[0m\u001b[0;34m,\u001b[0m\u001b[0;34m\u001b[0m\u001b[0;34m\u001b[0m\u001b[0m\n\u001b[1;32m   2814\u001b[0m         **({\"data\": data} if data is not None else {}), **kwargs)\n",
            "\u001b[0;32m/usr/local/lib/python3.9/dist-packages/matplotlib/axes/_axes.py\u001b[0m in \u001b[0;36mplot\u001b[0;34m(self, scalex, scaley, data, *args, **kwargs)\u001b[0m\n\u001b[1;32m   1686\u001b[0m         \"\"\"\n\u001b[1;32m   1687\u001b[0m         \u001b[0mkwargs\u001b[0m \u001b[0;34m=\u001b[0m \u001b[0mcbook\u001b[0m\u001b[0;34m.\u001b[0m\u001b[0mnormalize_kwargs\u001b[0m\u001b[0;34m(\u001b[0m\u001b[0mkwargs\u001b[0m\u001b[0;34m,\u001b[0m \u001b[0mmlines\u001b[0m\u001b[0;34m.\u001b[0m\u001b[0mLine2D\u001b[0m\u001b[0;34m)\u001b[0m\u001b[0;34m\u001b[0m\u001b[0;34m\u001b[0m\u001b[0m\n\u001b[0;32m-> 1688\u001b[0;31m         \u001b[0mlines\u001b[0m \u001b[0;34m=\u001b[0m \u001b[0;34m[\u001b[0m\u001b[0;34m*\u001b[0m\u001b[0mself\u001b[0m\u001b[0;34m.\u001b[0m\u001b[0m_get_lines\u001b[0m\u001b[0;34m(\u001b[0m\u001b[0;34m*\u001b[0m\u001b[0margs\u001b[0m\u001b[0;34m,\u001b[0m \u001b[0mdata\u001b[0m\u001b[0;34m=\u001b[0m\u001b[0mdata\u001b[0m\u001b[0;34m,\u001b[0m \u001b[0;34m**\u001b[0m\u001b[0mkwargs\u001b[0m\u001b[0;34m)\u001b[0m\u001b[0;34m]\u001b[0m\u001b[0;34m\u001b[0m\u001b[0;34m\u001b[0m\u001b[0m\n\u001b[0m\u001b[1;32m   1689\u001b[0m         \u001b[0;32mfor\u001b[0m \u001b[0mline\u001b[0m \u001b[0;32min\u001b[0m \u001b[0mlines\u001b[0m\u001b[0;34m:\u001b[0m\u001b[0;34m\u001b[0m\u001b[0;34m\u001b[0m\u001b[0m\n\u001b[1;32m   1690\u001b[0m             \u001b[0mself\u001b[0m\u001b[0;34m.\u001b[0m\u001b[0madd_line\u001b[0m\u001b[0;34m(\u001b[0m\u001b[0mline\u001b[0m\u001b[0;34m)\u001b[0m\u001b[0;34m\u001b[0m\u001b[0;34m\u001b[0m\u001b[0m\n",
            "\u001b[0;32m/usr/local/lib/python3.9/dist-packages/matplotlib/axes/_base.py\u001b[0m in \u001b[0;36m__call__\u001b[0;34m(self, data, *args, **kwargs)\u001b[0m\n\u001b[1;32m    309\u001b[0m                 \u001b[0mthis\u001b[0m \u001b[0;34m+=\u001b[0m \u001b[0margs\u001b[0m\u001b[0;34m[\u001b[0m\u001b[0;36m0\u001b[0m\u001b[0;34m]\u001b[0m\u001b[0;34m,\u001b[0m\u001b[0;34m\u001b[0m\u001b[0;34m\u001b[0m\u001b[0m\n\u001b[1;32m    310\u001b[0m                 \u001b[0margs\u001b[0m \u001b[0;34m=\u001b[0m \u001b[0margs\u001b[0m\u001b[0;34m[\u001b[0m\u001b[0;36m1\u001b[0m\u001b[0;34m:\u001b[0m\u001b[0;34m]\u001b[0m\u001b[0;34m\u001b[0m\u001b[0;34m\u001b[0m\u001b[0m\n\u001b[0;32m--> 311\u001b[0;31m             yield from self._plot_args(\n\u001b[0m\u001b[1;32m    312\u001b[0m                 this, kwargs, ambiguous_fmt_datakey=ambiguous_fmt_datakey)\n\u001b[1;32m    313\u001b[0m \u001b[0;34m\u001b[0m\u001b[0m\n",
            "\u001b[0;32m/usr/local/lib/python3.9/dist-packages/matplotlib/axes/_base.py\u001b[0m in \u001b[0;36m_plot_args\u001b[0;34m(self, tup, kwargs, return_kwargs, ambiguous_fmt_datakey)\u001b[0m\n\u001b[1;32m    502\u001b[0m \u001b[0;34m\u001b[0m\u001b[0m\n\u001b[1;32m    503\u001b[0m         \u001b[0;32mif\u001b[0m \u001b[0mx\u001b[0m\u001b[0;34m.\u001b[0m\u001b[0mshape\u001b[0m\u001b[0;34m[\u001b[0m\u001b[0;36m0\u001b[0m\u001b[0;34m]\u001b[0m \u001b[0;34m!=\u001b[0m \u001b[0my\u001b[0m\u001b[0;34m.\u001b[0m\u001b[0mshape\u001b[0m\u001b[0;34m[\u001b[0m\u001b[0;36m0\u001b[0m\u001b[0;34m]\u001b[0m\u001b[0;34m:\u001b[0m\u001b[0;34m\u001b[0m\u001b[0;34m\u001b[0m\u001b[0m\n\u001b[0;32m--> 504\u001b[0;31m             raise ValueError(f\"x and y must have same first dimension, but \"\n\u001b[0m\u001b[1;32m    505\u001b[0m                              f\"have shapes {x.shape} and {y.shape}\")\n\u001b[1;32m    506\u001b[0m         \u001b[0;32mif\u001b[0m \u001b[0mx\u001b[0m\u001b[0;34m.\u001b[0m\u001b[0mndim\u001b[0m \u001b[0;34m>\u001b[0m \u001b[0;36m2\u001b[0m \u001b[0;32mor\u001b[0m \u001b[0my\u001b[0m\u001b[0;34m.\u001b[0m\u001b[0mndim\u001b[0m \u001b[0;34m>\u001b[0m \u001b[0;36m2\u001b[0m\u001b[0;34m:\u001b[0m\u001b[0;34m\u001b[0m\u001b[0;34m\u001b[0m\u001b[0m\n",
            "\u001b[0;31mValueError\u001b[0m: x and y must have same first dimension, but have shapes (27,) and (32,)"
          ]
        },
        {
          "output_type": "display_data",
          "data": {
            "text/plain": [
              "<Figure size 640x480 with 1 Axes>"
            ],
            "image/png": "[encoded data removed]"
          },
          "metadata": {}
        }
      ],
      "source": [
        "loss, accuracy = model.evaluate(x_test, y_test, verbose = 0)\n",
        "loss = train.history['loss']\n",
        "accuracy = train.history['accuracy']\n",
        "\n",
        "# Plot the training loss and accuracy curves\n",
        "epochs = np.arange(1, 28)\n",
        "plt.plot(epochs, accuracy, 'bo', label='Training accuracy')\n",
        "plt.plot(epochs, loss, 'b', label='Training loss')\n",
        "plt.title('Training loss and accuracy')\n",
        "plt.xlabel('Epochs')\n",
        "plt.ylabel('Loss and accuracy')\n",
        "plt.legend()\n",
        "plt.show()"
      ]
    }
  ]
}