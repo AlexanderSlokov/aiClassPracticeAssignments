{
  "nbformat": 4,
  "nbformat_minor": 0,
  "metadata": {
    "colab": {
      "provenance": [],
      "gpuType": "T4",
      "mount_file_id": "1HbQIs8vZSaTd6PNTCaYHjyuslHmlgfwa",
      "authorship_tag": "ABX9TyNym89Pne4pEEI+eQzxTZfx",
      "include_colab_link": true
    },
    "kernelspec": {
      "name": "python3",
      "display_name": "Python 3"
    },
    "language_info": {
      "name": "python"
    },
    "gpuClass": "standard"
  },
  "cells": [
    {
      "cell_type": "markdown",
      "metadata": {
        "id": "view-in-github",
        "colab_type": "text"
      },
      "source": [
        "<a href=\"https://colab.research.google.com/github/AlexanderSlokov/aiClassPracticeAssignments/blob/main/Week14SpeechsToText.ipynb\" target=\"_parent\"><img src=\"https://colab.research.google.com/assets/colab-badge.svg\" alt=\"Open In Colab\"/></a>"
      ]
    },
    {
      "cell_type": "code",
      "execution_count": null,
      "metadata": {
        "id": "GozLmvgBNsnG"
      },
      "outputs": [],
      "source": [
        "!pip install SpeechRecognition pydub\n"
      ]
    },
    {
      "cell_type": "code",
      "execution_count": 20,
      "metadata": {
        "colab": {
          "base_uri": "https://localhost:8080/"
        },
        "id": "3HMCE5aH_0ya",
        "outputId": "02688236-a361-462c-fbba-1d886249d98c"
      },
      "outputs": [
        {
          "output_type": "stream",
          "name": "stdout",
          "text": [
            "Drive already mounted at /content/drive; to attempt to forcibly remount, call drive.mount(\"/content/drive\", force_remount=True).\n"
          ]
        }
      ],
      "source": [
        "# Mount Google Drive\n",
        "from google.colab import drive\n",
        "drive.mount('/content/drive')\n"
      ]
    },
    {
      "cell_type": "code",
      "source": [
        "import speech_recognition as sr\n",
        "r = sr.Recognizer()\n",
        "test_file = sr.AudioFile('/content/drive/MyDrive/TrainingAutoDatasets/SoundDataset/ChamberRuCutted.wav')\n",
        "with test_file as source:\n",
        "  test_data = r.record(source, offset = 0, duration = 110)\n",
        "  textCreator = r.recognize_google(test_data, language = 'ru')\n",
        "  print(textCreator)"
      ],
      "metadata": {
        "colab": {
          "base_uri": "https://localhost:8080/"
        },
        "id": "zdZM67VNOnk_",
        "outputId": "01f959a3-f1aa-4ec1-90f9-f54beaa495ed"
      },
      "execution_count": 21,
      "outputs": [
        {
          "output_type": "stream",
          "name": "stdout",
          "text": [
            "миссия привстал вы приняли верное решение когда согласились сотрудничать со мной Я понимаю почему вы колебались я новый Агент обо мне ничего не известно и познакомились мы не при самых приятных обстоятельствах но скоро узнаем друг друга получше спрашивайте меня о чём угодно Мне нечего скрывать у нас же с вами одна цель так и только я могу вам помочь вы взяли нужного человека я вас не разочарую неплохое местечко вот так подарочек нашли мою ловушку Ловушка уничтожена поймал Да ты попался всё готова должно сработать шикарно - Телепорт сломали телефон прощай но я пошёл счастливо я слишком далеко и слишком далеко не достанет не достанет Телепорт готов Телепорт готов Эксклюзив ультимейт пора умирать роскошно Мне нравится красота попробуем прорваться Победы уже почти у нас в кармане они нам уже упростили задачу всем хорошей перестрелки потанцуем выгоним их отсюда покажем Ну всё я разозлился живым никого не отпускать Я бы на их месте уже сдался так\n"
          ]
        }
      ]
    },
    {
      "cell_type": "code",
      "source": [
        "!pip install gTTS"
      ],
      "metadata": {
        "id": "6M7x_6VncXaM"
      },
      "execution_count": null,
      "outputs": []
    },
    {
      "cell_type": "code",
      "source": [
        "from gtts import gTTS\n",
        "import os"
      ],
      "metadata": {
        "id": "vJjg3jfhcpMf"
      },
      "execution_count": 24,
      "outputs": []
    },
    {
      "cell_type": "code",
      "source": [
        "Text = \"миссия привстал вы приняли верное решение когда согласились сотрудничать со мной Я понимаю почему вы колебались я новый Агент обо мне ничего не известно и познакомились мы не при самых приятных обстоятельствах но скоро узнаем друг друга получше спрашивайте меня о чём угодно Мне нечего скрывать у нас же с вами одна цель так и только я могу вам помочь вы взяли нужного человека я вас не разочарую неплохое местечко вот так подарочек нашли мою ловушку Ловушка уничтожена поймал Да ты попался всё готова должно сработать шикарно - Телепорт сломали телефон прощай но я пошёл счастливо я слишком далеко и слишком далеко не достанет не достанет Телепорт готов Телепорт готов Эксклюзив ультимейт пора умирать роскошно Мне нравится красота попробуем прорваться Победы уже почти у нас в кармане они нам уже упростили задачу всем хорошей перестрелки потанцуем выгоним их отсюда покажем Ну всё я разозлился живым никого не отпускать Я бы на их месте уже сдался так\"\n",
        "speak = gTTS(text = Text, lang = 'ru', slow = 'False')\n",
        "speak.save('/content/drive/MyDrive/TrainingAutoDatasets/TextToSpeechProcessed/ChamberRuSpeakFromText.mp3')"
      ],
      "metadata": {
        "id": "K9ikMzMDcwDG"
      },
      "execution_count": 25,
      "outputs": []
    },
    {
      "cell_type": "code",
      "source": [
        "# You can use this snipet to run on Visual Code\n",
        "# play.sound('..........mp3')\n",
        "# os.runmc('............mp3')\n",
        "# print(text)"
      ],
      "metadata": {
        "id": "5TWv3ZXGd7nR"
      },
      "execution_count": null,
      "outputs": []
    },
    {
      "cell_type": "code",
      "source": [
        "!pip install googletrans==3.1.0a0"
      ],
      "metadata": {
        "id": "FktE8a4FfDub"
      },
      "execution_count": null,
      "outputs": []
    },
    {
      "cell_type": "code",
      "source": [
        "from googletrans import Translator\n",
        "translator = Translator()\n",
        "translation = translator.translate('Stella ngổ ngáo và quá dễ nổi điên để làm mấy chuyện nguy hiểm. Giống như cái hôm nắng mai ấm áp phủ lên gò má của Alexander, cô nhóc nổi hứng, vứt tứ tung quần áo trước thềm ban công xong  nằm vắt vẻo trên đó. Thật khiếp vía thay, lúc đó mới sớm tinh mơ nên không ai bước dưới vỉa hè để ý đến, nếu không là cô ta bị tống vào tù mất rồi. Alexander nhớ đến cái lần đầu tiên cậu thấy cái trò ngu ngốc điên khùng đó của cô, cậu đã suýt vỡ tim mà chết. Chết vì một đứa con gái điên, và chết thêm vì ngượng.', dest = 'en')\n",
        "print(translation.text)"
      ],
      "metadata": {
        "colab": {
          "base_uri": "https://localhost:8080/"
        },
        "id": "hP2HPkLlgu7s",
        "outputId": "9716879c-2ea5-4975-ea2c-7be4cab081d5"
      },
      "execution_count": 18,
      "outputs": [
        {
          "output_type": "stream",
          "name": "stdout",
          "text": [
            "Stella is sassy and too easily angered to do dangerous things. Like the warm morning sun on Alexander's cheeks, the girl got excited, threw her clothes on the balcony and lay on it. Shockingly, it was early morning so no one on the sidewalk noticed, or else she would have been sent to prison. Alexander remembered the first time he'd seen her crazy stupidity, he'd nearly died of a heart attack. Die for a crazy girl, and die for embarrassment.\n"
          ]
        }
      ]
    },
    {
      "cell_type": "code",
      "source": [
        "translation = translator.translate('миссия привстал вы приняли верное решение когда согласились сотрудничать со мной Я понимаю почему вы колебались я новый Агент обо мне ничего не известно и познакомились мы не при самых приятных обстоятельствах но скоро узнаем друг друга получше спрашивайте меня о чём угодно Мне нечего скрывать у нас же с вами одна цель так и только я могу вам помочь вы взяли нужного человека я вас не разочарую неплохое местечко вот так подарочек нашли мою ловушку Ловушка уничтожена поймал Да ты попался всё готова должно сработать шикарно - Телепорт сломали телефон прощай но я пошёл счастливо я слишком далеко и слишком далеко не достанет не достанет Телепорт готов Телепорт готов Эксклюзив ультимейт пора умирать роскошно Мне нравится красота попробуем прорваться Победы уже почти у нас в кармане они нам уже упростили задачу всем хорошей перестрелки потанцуем выгоним их отсюда покажем Ну всё я разозлился живым никого не отпускать Я бы на их месте уже сдался так', dest = 'vi')\n",
        "print(translation.text)"
      ],
      "metadata": {
        "colab": {
          "base_uri": "https://localhost:8080/"
        },
        "id": "F8JybiXmmudh",
        "outputId": "352fa39b-f5f4-4e7f-8b21-de318303605a"
      },
      "execution_count": 26,
      "outputs": [
        {
          "output_type": "stream",
          "name": "stdout",
          "text": [
            "nhiệm vụ bắt đầu, bạn đã có một quyết định đúng đắn khi đồng ý hợp tác với tôi. Tôi hiểu lý do tại sao bạn do dự. Tôi là Đặc vụ mới, không có gì được biết về tôi và chúng ta gặp nhau không trong hoàn cảnh dễ chịu nhất nhưng chúng ta sẽ sớm hiểu nhau hơn hỏi tôi bất cứ điều gì tôi không có gì để giấu với chúng tôi bạn có một mục tiêu và chỉ tôi mới có thể giúp bạn bạn đã lấy đúng người tôi sẽ không làm bạn thất vọng một nơi tốt như thế này một món quà đã tìm thấy bẫy của tôi Bẫy bị phá hủy bắt được Vâng bạn hiểu rồi mọi thứ đã sẵn sàng, nó sẽ hoạt động tốt - Dịch chuyển đã làm hỏng điện thoại tạm biệt nhưng tôi đã đi rất vui Tôi đã đi quá xa và không thể với tới quá xa không thể với tới Dịch chuyển sẵn sàng Dịch chuyển đã sẵn sàng Dịch chuyển đã sẵn sàng Độc quyền cuối cùng đã đến lúc chết một cách sang trọng Tôi thích cái đẹp hãy cố gắng vượt qua The chiến thắng gần như đã nằm trong túi của chúng ta họ đã giúp mọi người dễ dàng có một loạt đá luân lưu hay, hãy nhảy nào, chúng ta sẽ đuổi họ ra khỏi đây, chúng ta sẽ cho họ thấy. ở vị trí của họ\n"
          ]
        }
      ]
    },
    {
      "cell_type": "code",
      "source": [
        "translation = translator.translate('миссия привстал вы приняли верное решение когда согласились сотрудничать со мной Я понимаю почему вы колебались я новый Агент обо мне ничего не известно и познакомились мы не при самых приятных обстоятельствах но скоро узнаем друг друга получше спрашивайте меня о чём угодно Мне нечего скрывать у нас же с вами одна цель так и только я могу вам помочь вы взяли нужного человека я вас не разочарую неплохое местечко вот так подарочек нашли мою ловушку Ловушка уничтожена поймал Да ты попался всё готова должно сработать шикарно - Телепорт сломали телефон прощай но я пошёл счастливо я слишком далеко и слишком далеко не достанет не достанет Телепорт готов Телепорт готов Эксклюзив ультимейт пора умирать роскошно Мне нравится красота попробуем прорваться Победы уже почти у нас в кармане они нам уже упростили задачу всем хорошей перестрелки потанцуем выгоним их отсюда покажем Ну всё я разозлился живым никого не отпускать Я бы на их месте уже сдался так', dest = 'vi')\n",
        "print(translation.text)"
      ],
      "metadata": {
        "colab": {
          "base_uri": "https://localhost:8080/"
        },
        "id": "t74KjvzOnl1Y",
        "outputId": "aec1d89c-95bf-499e-90a4-7294247e4a20"
      },
      "execution_count": 27,
      "outputs": [
        {
          "output_type": "stream",
          "name": "stdout",
          "text": [
            "nhiệm vụ bắt đầu, bạn đã có một quyết định đúng đắn khi đồng ý hợp tác với tôi. Tôi hiểu lý do tại sao bạn do dự. Tôi là Đặc vụ mới, không có gì được biết về tôi và chúng ta gặp nhau không trong hoàn cảnh dễ chịu nhất nhưng chúng ta sẽ sớm hiểu nhau hơn hỏi tôi bất cứ điều gì tôi không có gì để giấu với chúng tôi bạn có một mục tiêu và chỉ tôi mới có thể giúp bạn bạn đã lấy đúng người tôi sẽ không làm bạn thất vọng một nơi tốt như thế này một món quà đã tìm thấy bẫy của tôi Bẫy bị phá hủy bắt được Vâng bạn hiểu rồi mọi thứ đã sẵn sàng, nó sẽ hoạt động tốt - Dịch chuyển đã làm hỏng điện thoại tạm biệt nhưng tôi đã đi rất vui Tôi đã đi quá xa và không thể với tới quá xa không thể với tới Dịch chuyển sẵn sàng Dịch chuyển đã sẵn sàng Dịch chuyển đã sẵn sàng Độc quyền cuối cùng đã đến lúc chết một cách sang trọng Tôi thích cái đẹp hãy cố gắng vượt qua The chiến thắng gần như đã nằm trong túi của chúng ta họ đã giúp mọi người dễ dàng có một loạt đá luân lưu hay, hãy nhảy nào, chúng ta sẽ đuổi họ ra khỏi đây, chúng ta sẽ cho họ thấy. ở vị trí của họ\n"
          ]
        }
      ]
    }
  ]
}