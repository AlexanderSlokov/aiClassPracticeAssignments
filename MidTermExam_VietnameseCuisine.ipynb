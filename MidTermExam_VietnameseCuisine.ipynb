{
  "nbformat": 4,
  "nbformat_minor": 0,
  "metadata": {
    "colab": {
      "provenance": [],
      "mount_file_id": "17fqdo9jsBsg4gYcrR-uGAkKcAWsFvEeN",
      "authorship_tag": "ABX9TyODz+vw9B+0vDz/rg3JPagd",
      "include_colab_link": true
    },
    "kernelspec": {
      "name": "python3",
      "display_name": "Python 3"
    },
    "language_info": {
      "name": "python"
    }
  },
  "cells": [
    {
      "cell_type": "markdown",
      "metadata": {
        "id": "view-in-github",
        "colab_type": "text"
      },
      "source": [
        "<a href=\"https://colab.research.google.com/github/AlexanderSlokov/aiClassPracticeAssignments/blob/main/MidTermExam_VietnameseCuisine.ipynb\" target=\"_parent\"><img src=\"https://colab.research.google.com/assets/colab-badge.svg\" alt=\"Open In Colab\"/></a>"
      ]
    },
    {
      "cell_type": "code",
      "execution_count": 26,
      "metadata": {
        "id": "3HMCE5aH_0ya",
        "colab": {
          "base_uri": "https://localhost:8080/"
        },
        "outputId": "745a330e-b323-460f-9d59-2640fbd5e2fd"
      },
      "outputs": [
        {
          "output_type": "stream",
          "name": "stdout",
          "text": [
            "Drive already mounted at /content/drive; to attempt to forcibly remount, call drive.mount(\"/content/drive\", force_remount=True).\n"
          ]
        }
      ],
      "source": [
        "# Mount Google Drive\n",
        "from google.colab import drive\n",
        "drive.mount('/content/drive')\n"
      ]
    },
    {
      "cell_type": "code",
      "source": [
        "# Libraries to preprocessing images\n",
        "from os import listdir\n",
        "from numpy import asarray, save\n",
        "from keras.utils import img_to_array\n",
        "from keras.utils import load_img"
      ],
      "metadata": {
        "id": "CjzdOMhPCaxk"
      },
      "execution_count": 27,
      "outputs": []
    },
    {
      "cell_type": "code",
      "source": [
        "# Access Drive Folder\n",
        "import matplotlib.pyplot as plt\n",
        "from matplotlib.image import imread \n",
        "folder = '/content/drive/MyDrive/AI Picture Datasets Resized/BulkResizePhotosVietnameseCuisine/'"
      ],
      "metadata": {
        "id": "e43tQZaFC8wA"
      },
      "execution_count": 28,
      "outputs": []
    },
    {
      "cell_type": "code",
      "source": [
        "# Read the images and its name\n",
        "photos, labels = list(), list()\n",
        "for file in listdir(folder):\n",
        "  output = 0\n",
        "\n",
        "  if file.startswith('banhchung'):\n",
        "    output = 1\n",
        "\n",
        "  if file.startswith('banhgiay'):\n",
        "    output = 2\n",
        "\n",
        "  if file.startswith('banhmi'):\n",
        "    output = 3\n",
        "\n",
        "  if file.startswith('banhxeo'):\n",
        "    output = 4\n",
        "\n",
        "  if file.startswith('chexoinuoc'):\n",
        "    output = 5\n",
        "  \n",
        "  if file.startswith('com'):\n",
        "    output = 6\n",
        "  \n",
        "  if file.startswith('comchay'):\n",
        "    output = 7\n",
        "\n",
        "  if file.startswith('goicuon'):\n",
        "    output = 8  \n",
        "  \n",
        "  if file.startswith('vitquay'):\n",
        "    output = 9  \n",
        "\n",
        "  if file.startswith('xoigac'):\n",
        "    output = 10\n",
        "\n",
        "# Load folder and preprocessing\n",
        "  photo = load_img(folder + file, target_size = (300, 300))\n",
        "  photo = img_to_array(photo)\n",
        "  photos.append(photo)\n",
        "  labels.append(output)\n",
        "\n",
        "photos = asarray(photos)\n",
        "labels =  asarray(labels)\n"
      ],
      "metadata": {
        "id": "jeB16QqiDnfk"
      },
      "execution_count": 29,
      "outputs": []
    },
    {
      "cell_type": "code",
      "source": [
        "print(photos.shape, labels.shape)\n",
        "save('/content/drive/MyDrive/AI_data_preprocessing/Midterm_VietnameseCuisine_photos.npy', photos)\n",
        "save('/content/drive/MyDrive/AI_data_preprocessing/Midterm_VietnameseCuisine_labels.npy', labels)"
      ],
      "metadata": {
        "colab": {
          "base_uri": "https://localhost:8080/"
        },
        "id": "lknMnWgJHJhe",
        "outputId": "2d5e3aa9-c042-41f1-c8e1-8fea45677f26"
      },
      "execution_count": 30,
      "outputs": [
        {
          "output_type": "stream",
          "name": "stdout",
          "text": [
            "(500, 300, 300, 3) (500,)\n"
          ]
        }
      ]
    },
    {
      "cell_type": "code",
      "source": [
        "#--------------------------/***/   PART TWO: TRAINING MODEL /***/--------------------------#"
      ],
      "metadata": {
        "id": "vNZ7l-VXVl2G"
      },
      "execution_count": 31,
      "outputs": []
    },
    {
      "cell_type": "code",
      "execution_count": 32,
      "metadata": {
        "id": "4BOEc7gHoRPE"
      },
      "outputs": [],
      "source": [
        "import matplotlib.pyplot as plt\n",
        "from keras.models import Sequential, Model\n",
        "from keras.layers import Dense, Dropout, Flatten, Conv2D, MaxPooling2D, Normalization, LeakyReLU\n",
        "from keras.utils import to_categorical\n",
        "from keras.optimizers import Adam\n",
        "from keras.losses import categorical_crossentropy   \n",
        "from sklearn.model_selection import train_test_split\n",
        "# test the model with a custom image\n",
        "from keras.utils import load_img, img_to_array\n",
        "import numpy as np"
      ]
    },
    {
      "cell_type": "code",
      "execution_count": 33,
      "metadata": {
        "id": "jxikUeVpoz35"
      },
      "outputs": [],
      "source": [
        "# load the preprocessed data\n",
        "data = np.load('/content/drive/MyDrive/AI_data_preprocessing/Midterm_VietnameseCuisine_photos.npy')\n",
        "labels = np.load('/content/drive/MyDrive/AI_data_preprocessing/Midterm_VietnameseCuisine_labels.npy')"
      ]
    },
    {
      "cell_type": "code",
      "source": [
        "# split data into training and testing sets\n",
        "x_train, x_test, y_train, y_test = train_test_split(data, labels, test_size=0.2, random_state=42)"
      ],
      "metadata": {
        "id": "YkzeCGTngybY"
      },
      "execution_count": 34,
      "outputs": []
    },
    {
      "cell_type": "code",
      "execution_count": 35,
      "metadata": {
        "id": "DXxteM48M8KA",
        "outputId": "c8800b75-c472-49c5-8c22-874f9087f97f",
        "colab": {
          "base_uri": "https://localhost:8080/"
        }
      },
      "outputs": [
        {
          "output_type": "stream",
          "name": "stdout",
          "text": [
            "(400, 300, 300, 3)\n",
            "(400,)\n",
            "(100, 300, 300, 3)\n",
            "(100,)\n"
          ]
        }
      ],
      "source": [
        "print(x_train.shape)\n",
        "print(y_train.shape)\n",
        "print(x_test.shape)\n",
        "print(y_test.shape)"
      ]
    },
    {
      "cell_type": "code",
      "execution_count": 36,
      "metadata": {
        "id": "tnHeIKqvo-q2"
      },
      "outputs": [],
      "source": [
        "x_train_reshape = x_train.reshape(400, 300, 300, 3)\n",
        "train_reshape = x_train_reshape.astype('float32')/255\n",
        "\n",
        "x_test_reshape = x_test.reshape(100, 300, 300, 3)\n",
        "test_reshape = x_test_reshape.astype('float32')/255\n",
        "\n",
        "# the to_cactagorical line must only run 1 time in a session"
      ]
    },
    {
      "cell_type": "code",
      "execution_count": 37,
      "metadata": {
        "id": "KExz1Hjipqzm"
      },
      "outputs": [],
      "source": [
        "y_train = to_categorical(y_train)\n",
        "y_test = to_categorical(y_test)"
      ]
    },
    {
      "cell_type": "code",
      "execution_count": 38,
      "metadata": {
        "id": "eQrnlM2Gqh1V"
      },
      "outputs": [],
      "source": [
        "model = Sequential()\n",
        "\n",
        "model.add(Conv2D(32,kernel_size = (3,3), activation='relu', input_shape = (300, 300, 3), padding = 'same'))\n",
        "model.add(Dropout(0.26))\n",
        "model.add(MaxPooling2D(\n",
        "    (2,2), padding = 'same')\n",
        ")\n",
        "\n",
        "model.add(Conv2D(\n",
        "    64, (3,3), activation = 'relu', padding = 'same'\n",
        "))\n",
        "model.add(Dropout(0.26))\n",
        "model.add(MaxPooling2D(\n",
        "    (2,2), padding = 'same')\n",
        ")\n",
        "\n",
        "model.add(Conv2D(\n",
        "    128, (3,3), activation = 'relu', padding = 'same'\n",
        "))\n",
        "model.add(Dropout(0.26))\n",
        "model.add(MaxPooling2D(\n",
        "    (2,2), padding = 'same')\n",
        ")\n",
        "\n",
        "# The ANN\n",
        "model.add(Flatten())\n",
        "# Hidden layers\n",
        "model.add(Dense(128, activation = 'relu'))\n",
        "model.add(Dropout(0.26))\n",
        "model.add(LeakyReLU(alpha = 0.1))\n",
        "model.add(Dense(11, activation = 'Softmax'))"
      ]
    },
    {
      "cell_type": "code",
      "execution_count": 39,
      "metadata": {
        "id": "xIR5Q_SUezll",
        "colab": {
          "base_uri": "https://localhost:8080/"
        },
        "outputId": "1e99033d-54f6-49ff-86a6-004e59699c39"
      },
      "outputs": [
        {
          "output_type": "stream",
          "name": "stdout",
          "text": [
            "Epoch 1/15\n",
            "7/7 [==============================] - 144s 19s/step - loss: 1913.9165 - accuracy: 0.1000\n",
            "Epoch 2/15\n",
            "7/7 [==============================] - 142s 20s/step - loss: 7.5934 - accuracy: 0.2275\n",
            "Epoch 3/15\n",
            "7/7 [==============================] - 127s 18s/step - loss: 2.1204 - accuracy: 0.3325\n",
            "Epoch 4/15\n",
            "7/7 [==============================] - 125s 18s/step - loss: 1.9387 - accuracy: 0.3625\n",
            "Epoch 5/15\n",
            "7/7 [==============================] - 128s 18s/step - loss: 1.5657 - accuracy: 0.4875\n",
            "Epoch 6/15\n",
            "7/7 [==============================] - 125s 18s/step - loss: 1.1601 - accuracy: 0.6300\n",
            "Epoch 7/15\n",
            "7/7 [==============================] - 132s 19s/step - loss: 1.1189 - accuracy: 0.6650\n",
            "Epoch 8/15\n",
            "7/7 [==============================] - 126s 18s/step - loss: 0.6488 - accuracy: 0.7775\n",
            "Epoch 9/15\n",
            "7/7 [==============================] - 126s 18s/step - loss: 0.5335 - accuracy: 0.8225\n",
            "Epoch 10/15\n",
            "7/7 [==============================] - 127s 18s/step - loss: 0.4257 - accuracy: 0.8400\n",
            "Epoch 11/15\n",
            "7/7 [==============================] - 125s 18s/step - loss: 0.4322 - accuracy: 0.8700\n",
            "Epoch 12/15\n",
            "7/7 [==============================] - 129s 18s/step - loss: 0.4168 - accuracy: 0.8950\n",
            "Epoch 13/15\n",
            "7/7 [==============================] - 126s 18s/step - loss: 0.3182 - accuracy: 0.9075\n",
            "Epoch 14/15\n",
            "7/7 [==============================] - 128s 18s/step - loss: 0.2219 - accuracy: 0.9175\n",
            "Epoch 15/15\n",
            "7/7 [==============================] - 127s 18s/step - loss: 0.2741 - accuracy: 0.9175\n"
          ]
        }
      ],
      "source": [
        "# compile the model\n",
        "model.compile(loss  = categorical_crossentropy, optimizer=Adam(), metrics = ['accuracy'])\n",
        "# train the model\n",
        "train = model.fit(x_train, y_train, batch_size = 64, epochs = 15, verbose = 1)"
      ]
    },
    {
      "cell_type": "code",
      "source": [
        "model.save('/content/drive/MyDrive/AI_data_preprocessing/VietnameseCuisineTrained1.h5')"
      ],
      "metadata": {
        "id": "6YEw0yitx36S"
      },
      "execution_count": 41,
      "outputs": []
    },
    {
      "cell_type": "code",
      "execution_count": 43,
      "metadata": {
        "id": "HzIqFnt4rR5q",
        "outputId": "772c4b3d-d3f8-4fda-9510-3343689a1507",
        "colab": {
          "base_uri": "https://localhost:8080/",
          "height": 472
        }
      },
      "outputs": [
        {
          "output_type": "display_data",
          "data": {
            "text/plain": [
              "<Figure size 640x480 with 1 Axes>"
            ],
            "image/png": "[encoded data removed]"
          },
          "metadata": {}
        }
      ],
      "source": [
        "loss, accuracy = model.evaluate(x_test, y_test, verbose = 0)\n",
        "loss = train.history['loss']\n",
        "accuracy = train.history['accuracy']\n",
        "\n",
        "# Plot the training loss and accuracy curves\n",
        "epochs = np.arange(1, 16)\n",
        "plt.plot(epochs, accuracy, 'bo', label='Training accuracy')\n",
        "plt.plot(epochs, loss, 'b', label='Training loss')\n",
        "plt.title('Training loss and accuracy')\n",
        "plt.xlabel('Epochs')\n",
        "plt.ylabel('Loss and accuracy')\n",
        "plt.legend()\n",
        "plt.show()"
      ]
    },
    {
      "cell_type": "code",
      "execution_count": 44,
      "metadata": {
        "id": "huIZGBCOM8KE",
        "outputId": "739f7e43-7715-4fd0-8105-84bb7c6918db",
        "colab": {
          "base_uri": "https://localhost:8080/"
        }
      },
      "outputs": [
        {
          "output_type": "stream",
          "name": "stdout",
          "text": [
            "4/4 [==============================] - 8s 2s/step - loss: 1.4749 - accuracy: 0.6000\n",
            "Test Loss: 1.4748566150665283\n",
            "Test Accuracy: 0.6000000238418579\n"
          ]
        }
      ],
      "source": [
        "# evaluate the model on test data\n",
        "test_loss, test_accuracy = model.evaluate(x_test, y_test)\n",
        "\n",
        "print(\"Test Loss:\", test_loss)\n",
        "print(\"Test Accuracy:\", test_accuracy)"
      ]
    }
  ]
}