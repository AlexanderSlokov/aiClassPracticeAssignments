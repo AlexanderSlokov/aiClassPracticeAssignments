{
  "nbformat": 4,
  "nbformat_minor": 0,
  "metadata": {
    "colab": {
      "provenance": [],
      "authorship_tag": "ABX9TyOXBV7R9Qk54VwEjw8Ty4up",
      "include_colab_link": true
    },
    "kernelspec": {
      "name": "python3",
      "display_name": "Python 3"
    },
    "language_info": {
      "name": "python"
    }
  },
  "cells": [
    {
      "cell_type": "markdown",
      "metadata": {
        "id": "view-in-github",
        "colab_type": "text"
      },
      "source": [
        "<a href=\"https://colab.research.google.com/github/AlexanderSlokov/aiClassPracticeAssignments/blob/main/AIWeek8_Perceptron_Example.ipynb\" target=\"_parent\"><img src=\"https://colab.research.google.com/assets/colab-badge.svg\" alt=\"Open In Colab\"/></a>"
      ]
    },
    {
      "cell_type": "code",
      "execution_count": 2,
      "metadata": {
        "id": "EKW0oodG97c_"
      },
      "outputs": [],
      "source": [
        "from sklearn.linear_model import Perceptron\n"
      ]
    },
    {
      "cell_type": "code",
      "source": [
        "x = [[0,0],[1,0],[0,1],[1,1]]\n",
        "y = [0,1,1,1]"
      ],
      "metadata": {
        "id": "nngVzlZw-dW3"
      },
      "execution_count": 6,
      "outputs": []
    },
    {
      "cell_type": "code",
      "source": [
        "# Create model\n",
        "model = Perceptron()\n",
        "# Train model\n",
        "model.fit(x,y)\n",
        "# Result\n",
        "model.score(x,y)"
      ],
      "metadata": {
        "colab": {
          "base_uri": "https://localhost:8080/"
        },
        "id": "vNBxdbJU_ssd",
        "outputId": "e3063a5e-3896-4afb-f5be-a969e8f7ca45"
      },
      "execution_count": 7,
      "outputs": [
        {
          "output_type": "execute_result",
          "data": {
            "text/plain": [
              "1.0"
            ]
          },
          "metadata": {},
          "execution_count": 7
        }
      ]
    },
    {
      "cell_type": "code",
      "source": [
        "x2 = [[0.5,0],[0,0.5],[0.6,0],[0.51,0],[0,0.51],[10,-2],[-2,1]]\n",
        "y2 = model.predict(x2)\n",
        "print(y2)\n",
        "model.score(x2,y2)"
      ],
      "metadata": {
        "colab": {
          "base_uri": "https://localhost:8080/"
        },
        "id": "8vFYQ6FmAfQG",
        "outputId": "9910b44b-8bdd-4916-d3d0-cce2eb6847da"
      },
      "execution_count": 8,
      "outputs": [
        {
          "output_type": "stream",
          "name": "stdout",
          "text": [
            "[0 0 1 1 1 1 0]\n"
          ]
        },
        {
          "output_type": "execute_result",
          "data": {
            "text/plain": [
              "1.0"
            ]
          },
          "metadata": {},
          "execution_count": 8
        }
      ]
    },
    {
      "cell_type": "code",
      "source": [
        "x3 = [[-0.5,-0.5],[-0.5,0.5],[0.3,-0.5],[-0.1,1]]\n",
        "y3 = [1,1,0,0]"
      ],
      "metadata": {
        "id": "S13NuFOYB_RK"
      },
      "execution_count": 9,
      "outputs": []
    },
    {
      "cell_type": "code",
      "source": [
        "# Create model\n",
        "model3 = Perceptron()\n",
        "# Train model\n",
        "model3.fit(x3,y3)\n",
        "# Result\n",
        "model3.score(x3,y3)"
      ],
      "metadata": {
        "colab": {
          "base_uri": "https://localhost:8080/"
        },
        "id": "t35vpNkfCjH-",
        "outputId": "2b6bd863-e938-4124-825c-2920e7d02e2d"
      },
      "execution_count": 10,
      "outputs": [
        {
          "output_type": "execute_result",
          "data": {
            "text/plain": [
              "1.0"
            ]
          },
          "metadata": {},
          "execution_count": 10
        }
      ]
    },
    {
      "cell_type": "code",
      "source": [],
      "metadata": {
        "id": "WO27d7BEDIQ-"
      },
      "execution_count": null,
      "outputs": []
    }
  ]
}