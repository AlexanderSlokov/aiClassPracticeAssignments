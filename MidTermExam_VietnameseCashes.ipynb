{
  "nbformat": 4,
  "nbformat_minor": 0,
  "metadata": {
    "colab": {
      "provenance": [],
      "mount_file_id": "1c9wAl72cuwyup6zYb9juSTJe1GUB49Mv",
      "authorship_tag": "ABX9TyMEQBfGMFjVceI2960fR3XD",
      "include_colab_link": true
    },
    "kernelspec": {
      "name": "python3",
      "display_name": "Python 3"
    },
    "language_info": {
      "name": "python"
    }
  },
  "cells": [
    {
      "cell_type": "markdown",
      "metadata": {
        "id": "view-in-github",
        "colab_type": "text"
      },
      "source": [
        "<a href=\"https://colab.research.google.com/github/AlexanderSlokov/aiClassPracticeAssignments/blob/main/MidTermExam_VietnameseCashes.ipynb\" target=\"_parent\"><img src=\"https://colab.research.google.com/assets/colab-badge.svg\" alt=\"Open In Colab\"/></a>"
      ]
    },
    {
      "cell_type": "code",
      "execution_count": null,
      "metadata": {
        "id": "3HMCE5aH_0ya",
        "colab": {
          "base_uri": "https://localhost:8080/"
        },
        "outputId": "4c8524c5-82e9-4ab5-c7f3-cdb4ddef403e"
      },
      "outputs": [
        {
          "output_type": "stream",
          "name": "stdout",
          "text": [
            "Drive already mounted at /content/drive; to attempt to forcibly remount, call drive.mount(\"/content/drive\", force_remount=True).\n"
          ]
        }
      ],
      "source": [
        "# Mount Google Drive\n",
        "from google.colab import drive\n",
        "drive.mount('/content/drive')\n"
      ]
    },
    {
      "cell_type": "code",
      "source": [
        "# Libraries to preprocessing images\n",
        "from os import listdir\n",
        "from numpy import asarray, save\n",
        "from keras.utils import img_to_array\n",
        "from keras.utils import load_img"
      ],
      "metadata": {
        "id": "CjzdOMhPCaxk"
      },
      "execution_count": null,
      "outputs": []
    },
    {
      "cell_type": "code",
      "source": [
        "# Access Drive Folder\n",
        "import matplotlib.pyplot as plt\n",
        "from matplotlib.image import imread \n",
        "folder = '/content/drive/MyDrive/AI Picture Datasets Resized/VietnameseCashDataset/'"
      ],
      "metadata": {
        "id": "e43tQZaFC8wA"
      },
      "execution_count": null,
      "outputs": []
    },
    {
      "cell_type": "code",
      "source": [
        "# Read the images and its name\n",
        "photos, labels = list(), list()\n",
        "for file in listdir(folder):\n",
        "  output = 0\n",
        "\n",
        "  if file.startswith('twoThousandFront'):\n",
        "    output = 1\n",
        "\n",
        "  if file.startswith('twoHundredThousandFront'):\n",
        "    output = 2\n",
        "\n",
        "  if file.startswith('twentyThousandFront'):\n",
        "    output = 3\n",
        "\n",
        "  if file.startswith('tenThousandFront'):\n",
        "    output = 4\n",
        "\n",
        "  if file.startswith('oneThousandFront'):\n",
        "    output = 5\n",
        "  \n",
        "  if file.startswith('oneHundredThousandFront'):\n",
        "    output = 6\n",
        "  \n",
        "  if file.startswith('fiveThousandFront'):\n",
        "    output = 7\n",
        "\n",
        "  if file.startswith('fiveHundredThousandFront'):\n",
        "    output = 8  \n",
        "  \n",
        "  if file.startswith('fiveHundredFront'):\n",
        "    output = 9  \n",
        "\n",
        "  if file.startswith('fiftyThousandFront'):\n",
        "    output = 10\n",
        "\n",
        "# Load folder and preprocessing\n",
        "  photo = load_img(folder + file, target_size = (400, 200))\n",
        "  photo = img_to_array(photo)\n",
        "  photos.append(photo)\n",
        "  labels.append(output)\n",
        "\n",
        "photos = asarray(photos)\n",
        "labels =  asarray(labels)\n"
      ],
      "metadata": {
        "id": "jeB16QqiDnfk"
      },
      "execution_count": null,
      "outputs": []
    },
    {
      "cell_type": "code",
      "source": [
        "print(photos.shape, labels.shape)\n",
        "save('/content/drive/MyDrive/AI_data_preprocessing/Midterm_VietnameseCash_photos.npy', photos)\n",
        "save('/content/drive/MyDrive/AI_data_preprocessing/Midterm_VietnameseCash_labels.npy', labels)"
      ],
      "metadata": {
        "colab": {
          "base_uri": "https://localhost:8080/"
        },
        "id": "lknMnWgJHJhe",
        "outputId": "37b7a721-6cfe-45a2-9a05-327c9be6da89"
      },
      "execution_count": null,
      "outputs": [
        {
          "output_type": "stream",
          "name": "stdout",
          "text": [
            "(110, 400, 200, 3) (110,)\n"
          ]
        }
      ]
    },
    {
      "cell_type": "code",
      "source": [
        "#--------------------------/***/   PART TWO: TRAINING MODEL /***/--------------------------#"
      ],
      "metadata": {
        "id": "vNZ7l-VXVl2G"
      },
      "execution_count": null,
      "outputs": []
    },
    {
      "cell_type": "code",
      "execution_count": null,
      "metadata": {
        "id": "4BOEc7gHoRPE"
      },
      "outputs": [],
      "source": [
        "import matplotlib.pyplot as plt\n",
        "from keras.models import Sequential, Model\n",
        "from keras.layers import Dense, Dropout, Flatten, Conv2D, MaxPooling2D, Normalization, LeakyReLU\n",
        "from keras.utils import to_categorical\n",
        "from keras.optimizers import Adam\n",
        "from keras.losses import categorical_crossentropy   \n",
        "from sklearn.model_selection import train_test_split\n",
        "# test the model with a custom image\n",
        "from keras.utils import load_img, img_to_array\n",
        "import numpy as np"
      ]
    },
    {
      "cell_type": "code",
      "execution_count": null,
      "metadata": {
        "id": "jxikUeVpoz35"
      },
      "outputs": [],
      "source": [
        "# load the preprocessed data\n",
        "data = np.load('/content/drive/MyDrive/AI_data_preprocessing/Midterm_VietnameseCash_photos.npy')\n",
        "labels = np.load('/content/drive/MyDrive/AI_data_preprocessing/Midterm_VietnameseCash_labels.npy')"
      ]
    },
    {
      "cell_type": "code",
      "source": [
        "# split data into training and testing sets\n",
        "x_train, x_test, y_train, y_test = train_test_split(data, labels, test_size=0.2, random_state=42)"
      ],
      "metadata": {
        "id": "YkzeCGTngybY"
      },
      "execution_count": null,
      "outputs": []
    },
    {
      "cell_type": "code",
      "execution_count": null,
      "metadata": {
        "id": "DXxteM48M8KA",
        "outputId": "962ec455-f0b4-496e-c59f-8b9ff7d4730d",
        "colab": {
          "base_uri": "https://localhost:8080/"
        }
      },
      "outputs": [
        {
          "output_type": "stream",
          "name": "stdout",
          "text": [
            "(88, 400, 200, 3)\n",
            "(88,)\n",
            "(22, 400, 200, 3)\n",
            "(22,)\n"
          ]
        }
      ],
      "source": [
        "print(x_train.shape)\n",
        "print(y_train.shape)\n",
        "print(x_test.shape)\n",
        "print(y_test.shape)"
      ]
    },
    {
      "cell_type": "code",
      "execution_count": null,
      "metadata": {
        "id": "tnHeIKqvo-q2"
      },
      "outputs": [],
      "source": [
        "x_train_reshape = x_train.reshape(88, 400, 200, 3)\n",
        "train_reshape = x_train_reshape.astype('float32')/255\n",
        "\n",
        "x_test_reshape = x_test.reshape(22, 400, 200, 3)\n",
        "test_reshape = x_test_reshape.astype('float32')/255\n",
        "\n",
        "# the to_cactagorical line must only run 1 time in a session"
      ]
    },
    {
      "cell_type": "code",
      "execution_count": null,
      "metadata": {
        "id": "KExz1Hjipqzm"
      },
      "outputs": [],
      "source": [
        "y_train = to_categorical(y_train)\n",
        "y_test = to_categorical(y_test)"
      ]
    },
    {
      "cell_type": "code",
      "execution_count": null,
      "metadata": {
        "id": "eQrnlM2Gqh1V"
      },
      "outputs": [],
      "source": [
        "model = Sequential()\n",
        "\n",
        "model.add(Conv2D(32,kernel_size = (3,3), activation='relu', input_shape = (400, 200, 3), padding = 'same'))\n",
        "model.add(Dropout(0.25))\n",
        "model.add(MaxPooling2D(\n",
        "    (2,2), padding = 'same')\n",
        ")\n",
        "\n",
        "model.add(Conv2D(\n",
        "    64, (3,3), activation = 'relu', padding = 'same'\n",
        "))\n",
        "model.add(Dropout(0.25))\n",
        "model.add(MaxPooling2D(\n",
        "    (2,2), padding = 'same')\n",
        ")\n",
        "\n",
        "model.add(Conv2D(\n",
        "    128, (3,3), activation = 'relu', padding = 'same'\n",
        "))\n",
        "model.add(Dropout(0.25))\n",
        "model.add(MaxPooling2D(\n",
        "    (2,2), padding = 'same')\n",
        ")\n",
        "\n",
        "# The ANN\n",
        "model.add(Flatten())\n",
        "# Hidden layers\n",
        "model.add(Dense(128, activation = 'relu'))\n",
        "model.add(Dropout(0.25))\n",
        "model.add(LeakyReLU(alpha = 0.1))\n",
        "model.add(Dense(11, activation = 'Softmax'))"
      ]
    },
    {
      "cell_type": "code",
      "execution_count": null,
      "metadata": {
        "colab": {
          "base_uri": "https://localhost:8080/"
        },
        "id": "xIR5Q_SUezll",
        "outputId": "ae661649-6281-4d2f-e4bb-433b501974f8"
      },
      "outputs": [
        {
          "output_type": "stream",
          "name": "stdout",
          "text": [
            "Epoch 1/20\n",
            "2/2 [==============================] - 25s 7s/step - loss: 284.9931 - accuracy: 0.1364\n",
            "Epoch 2/20\n",
            "2/2 [==============================] - 22s 5s/step - loss: 233.3336 - accuracy: 0.1023\n",
            "Epoch 3/20\n",
            "2/2 [==============================] - 23s 7s/step - loss: 43.6722 - accuracy: 0.2614\n",
            "Epoch 4/20\n",
            "2/2 [==============================] - 21s 5s/step - loss: 8.1465 - accuracy: 0.4886\n",
            "Epoch 5/20\n",
            "2/2 [==============================] - 27s 6s/step - loss: 3.4950 - accuracy: 0.5568\n",
            "Epoch 6/20\n",
            "2/2 [==============================] - 23s 6s/step - loss: 0.2628 - accuracy: 0.9432\n",
            "Epoch 7/20\n",
            "2/2 [==============================] - 23s 5s/step - loss: 0.1346 - accuracy: 0.9773\n",
            "Epoch 8/20\n",
            "2/2 [==============================] - 23s 7s/step - loss: 0.0436 - accuracy: 0.9886\n",
            "Epoch 9/20\n",
            "2/2 [==============================] - 22s 5s/step - loss: 0.1264 - accuracy: 0.9886\n",
            "Epoch 10/20\n",
            "2/2 [==============================] - 24s 8s/step - loss: 0.0361 - accuracy: 0.9773\n",
            "Epoch 11/20\n",
            "2/2 [==============================] - 24s 7s/step - loss: 0.0303 - accuracy: 0.9773\n",
            "Epoch 12/20\n",
            "2/2 [==============================] - 24s 7s/step - loss: 0.2914 - accuracy: 0.9545\n",
            "Epoch 13/20\n",
            "2/2 [==============================] - 22s 6s/step - loss: 0.1418 - accuracy: 0.9659\n",
            "Epoch 14/20\n",
            "2/2 [==============================] - 23s 6s/step - loss: 0.0131 - accuracy: 0.9886\n",
            "Epoch 15/20\n",
            "2/2 [==============================] - 23s 6s/step - loss: 0.1917 - accuracy: 0.9773\n",
            "Epoch 16/20\n",
            "2/2 [==============================] - 22s 5s/step - loss: 0.2391 - accuracy: 0.9886\n",
            "Epoch 17/20\n",
            "2/2 [==============================] - 23s 7s/step - loss: 0.1042 - accuracy: 0.9545\n",
            "Epoch 18/20\n",
            "2/2 [==============================] - 21s 5s/step - loss: 0.0371 - accuracy: 0.9773\n",
            "Epoch 19/20\n",
            "2/2 [==============================] - 23s 7s/step - loss: 0.0653 - accuracy: 0.9886\n",
            "Epoch 20/20\n",
            "2/2 [==============================] - 21s 5s/step - loss: 0.0118 - accuracy: 1.0000\n"
          ]
        }
      ],
      "source": [
        "# compile the model\n",
        "model.compile(loss  = categorical_crossentropy, optimizer=Adam(), metrics = ['accuracy'])\n",
        "# train the model\n",
        "train = model.fit(x_train, y_train, batch_size = 64, epochs = 20, verbose = 1)"
      ]
    },
    {
      "cell_type": "code",
      "execution_count": null,
      "metadata": {
        "id": "HzIqFnt4rR5q",
        "outputId": "64d72438-3220-49fc-c977-b8a98c2c4dc6",
        "colab": {
          "base_uri": "https://localhost:8080/",
          "height": 472
        }
      },
      "outputs": [
        {
          "output_type": "display_data",
          "data": {
            "text/plain": [
              "<Figure size 640x480 with 1 Axes>"
            ],
            "image/png": "[encoded data removed]"
          },
          "metadata": {}
        }
      ],
      "source": [
        "loss, accuracy = model.evaluate(x_test, y_test, verbose = 0)\n",
        "loss = train.history['loss']\n",
        "accuracy = train.history['accuracy']\n",
        "\n",
        "# Plot the training loss and accuracy curves\n",
        "epochs = np.arange(1, 21)\n",
        "plt.plot(epochs, accuracy, 'bo', label='Training accuracy')\n",
        "plt.plot(epochs, loss, 'b', label='Training loss')\n",
        "plt.title('Training loss and accuracy')\n",
        "plt.xlabel('Epochs')\n",
        "plt.ylabel('Loss and accuracy')\n",
        "plt.legend()\n",
        "plt.show()"
      ]
    },
    {
      "cell_type": "code",
      "execution_count": null,
      "metadata": {
        "id": "huIZGBCOM8KE",
        "outputId": "18b688bd-073b-4bc4-80fd-4cedf42ba81c",
        "colab": {
          "base_uri": "https://localhost:8080/",
          "height": 244
        }
      },
      "outputs": [
        {
          "output_type": "error",
          "ename": "NameError",
          "evalue": "ignored",
          "traceback": [
            "\u001b[0;31m---------------------------------------------------------------------------\u001b[0m",
            "\u001b[0;31mNameError\u001b[0m                                 Traceback (most recent call last)",
            "\u001b[0;32m<ipython-input-1-ad1a92b1fb4c>\u001b[0m in \u001b[0;36m<cell line: 2>\u001b[0;34m()\u001b[0m\n\u001b[1;32m      1\u001b[0m \u001b[0;31m# evaluate the model on test data\u001b[0m\u001b[0;34m\u001b[0m\u001b[0;34m\u001b[0m\u001b[0m\n\u001b[0;32m----> 2\u001b[0;31m \u001b[0mtest_loss\u001b[0m\u001b[0;34m,\u001b[0m \u001b[0mtest_accuracy\u001b[0m \u001b[0;34m=\u001b[0m \u001b[0mmodel\u001b[0m\u001b[0;34m.\u001b[0m\u001b[0mevaluate\u001b[0m\u001b[0;34m(\u001b[0m\u001b[0mx_test\u001b[0m\u001b[0;34m,\u001b[0m \u001b[0my_test\u001b[0m\u001b[0;34m)\u001b[0m\u001b[0;34m\u001b[0m\u001b[0;34m\u001b[0m\u001b[0m\n\u001b[0m\u001b[1;32m      3\u001b[0m \u001b[0;34m\u001b[0m\u001b[0m\n\u001b[1;32m      4\u001b[0m \u001b[0mprint\u001b[0m\u001b[0;34m(\u001b[0m\u001b[0;34m\"Test Loss:\"\u001b[0m\u001b[0;34m,\u001b[0m \u001b[0mtest_loss\u001b[0m\u001b[0;34m)\u001b[0m\u001b[0;34m\u001b[0m\u001b[0;34m\u001b[0m\u001b[0m\n\u001b[1;32m      5\u001b[0m \u001b[0mprint\u001b[0m\u001b[0;34m(\u001b[0m\u001b[0;34m\"Test Accuracy:\"\u001b[0m\u001b[0;34m,\u001b[0m \u001b[0mtest_accuracy\u001b[0m\u001b[0;34m)\u001b[0m\u001b[0;34m\u001b[0m\u001b[0;34m\u001b[0m\u001b[0m\n",
            "\u001b[0;31mNameError\u001b[0m: name 'model' is not defined"
          ]
        }
      ],
      "source": [
        "# evaluate the model on test data\n",
        "test_loss, test_accuracy = model.evaluate(x_test, y_test)\n",
        "\n",
        "print(\"Test Loss:\", test_loss)\n",
        "print(\"Test Accuracy:\", test_accuracy)"
      ]
    }
  ]
}